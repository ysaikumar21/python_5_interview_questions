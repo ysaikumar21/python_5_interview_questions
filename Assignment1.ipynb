{
  "nbformat": 4,
  "nbformat_minor": 0,
  "metadata": {
    "colab": {
      "provenance": []
    },
    "kernelspec": {
      "name": "python3",
      "display_name": "Python 3"
    },
    "language_info": {
      "name": "python"
    }
  },
  "cells": [
    {
      "cell_type": "markdown",
      "source": [
        "**String Manipulation**"
      ],
      "metadata": {
        "id": "yR83qcycRMeh"
      }
    },
    {
      "cell_type": "code",
      "execution_count": null,
      "metadata": {
        "colab": {
          "base_uri": "https://localhost:8080/"
        },
        "id": "ioVSAbM-Df0r",
        "outputId": "f5e59e5a-e185-41a7-ad37-394fb9521ed0"
      },
      "outputs": [
        {
          "output_type": "stream",
          "name": "stdout",
          "text": [
            "aaaaaeeeeiiiiffffooou\n",
            "{'a': 5, 'e': 4, 'i': 4, 'o': 3, 'u': 1}\n"
          ]
        }
      ],
      "source": [
        "string=input(str())\n",
        "string=string.lower()\n",
        "vowels=\"aeiou\"\n",
        "my_dict={}\n",
        "for char in string:\n",
        "  if char in vowels:\n",
        "    my_dict[char]=my_dict.get(char,0)+1\n",
        "  else:\n",
        "    pass\n",
        "print(my_dict)\n"
      ]
    },
    {
      "cell_type": "markdown",
      "source": [
        "**List and Loop**"
      ],
      "metadata": {
        "id": "JnMoTnk9RV0V"
      }
    },
    {
      "cell_type": "code",
      "source": [
        "my_list = [2,3,4,5,6,7,8,9]\n",
        "def is_prime(n):\n",
        "  if n<2:\n",
        "    return False\n",
        "  for i in range(2,n):\n",
        "    if num%i==0:\n",
        "      return False\n",
        "  return True\n",
        "\n",
        "prime_list=[]\n",
        "for num in my_list:\n",
        "  if is_prime(num):\n",
        "    prime_list.append(num)\n",
        "print(prime_list)\n"
      ],
      "metadata": {
        "colab": {
          "base_uri": "https://localhost:8080/"
        },
        "id": "yh0IJzR2EQqV",
        "outputId": "f52ef9f9-34b4-42ca-c40a-9ebd02f7a088"
      },
      "execution_count": 5,
      "outputs": [
        {
          "output_type": "stream",
          "name": "stdout",
          "text": [
            "[2, 3, 5, 7]\n"
          ]
        }
      ]
    },
    {
      "cell_type": "markdown",
      "source": [
        "**Tuple Operation**"
      ],
      "metadata": {
        "id": "l27xqNCoRen7"
      }
    },
    {
      "cell_type": "code",
      "source": [
        "#input:[(1,3),(4,2),(2,5),(3,1)]\n",
        "#ouput : [(3, 1), (4, 2), (1, 3), (2, 5)]"
      ],
      "metadata": {
        "id": "7Sqcw0qtKExd"
      },
      "execution_count": 28,
      "outputs": []
    },
    {
      "cell_type": "markdown",
      "source": [
        "**Set Operation**"
      ],
      "metadata": {
        "id": "z5UJdSDfR5PQ"
      }
    },
    {
      "cell_type": "code",
      "source": [
        "a={1,2,3}\n",
        "b={3,4,5}\n",
        "result=set()\n",
        "for i in a:\n",
        "  result.add(i)\n",
        "for j in b:\n",
        "  if j not in result:\n",
        "    result.add(j)\n",
        "print(result)\n"
      ],
      "metadata": {
        "colab": {
          "base_uri": "https://localhost:8080/"
        },
        "id": "caJdWOCqMhNv",
        "outputId": "96061aa0-fc70-4077-bffa-0c35a925e385"
      },
      "execution_count": 22,
      "outputs": [
        {
          "output_type": "stream",
          "name": "stdout",
          "text": [
            "{1, 2, 3, 4, 5}\n"
          ]
        }
      ]
    },
    {
      "cell_type": "markdown",
      "source": [
        "**Dictionary Manipulation**"
      ],
      "metadata": {
        "id": "mcus1yBlSBGy"
      }
    },
    {
      "cell_type": "code",
      "source": [
        "my_dict={'a':1,'b':2,'c':3}\n",
        "result=dict()\n",
        "for key in my_dict:\n",
        "  value=my_dict[key]\n",
        "  result[value]=key\n",
        "print(result)"
      ],
      "metadata": {
        "colab": {
          "base_uri": "https://localhost:8080/"
        },
        "id": "Gbbxpl5YNvDg",
        "outputId": "015e8386-6602-44ee-8378-ce6887c93885"
      },
      "execution_count": 26,
      "outputs": [
        {
          "output_type": "stream",
          "name": "stdout",
          "text": [
            "{1: 'a', 2: 'b', 3: 'c'}\n"
          ]
        }
      ]
    }
  ]
}